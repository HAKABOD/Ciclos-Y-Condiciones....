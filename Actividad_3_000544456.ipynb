{
  "nbformat": 4,
  "nbformat_minor": 0,
  "metadata": {
    "colab": {
      "provenance": [],
      "authorship_tag": "ABX9TyOIYD2mD96ZzToIlIC4Iz97",
      "include_colab_link": true
    },
    "kernelspec": {
      "name": "python3",
      "display_name": "Python 3"
    },
    "language_info": {
      "name": "python"
    }
  },
  "cells": [
    {
      "cell_type": "markdown",
      "metadata": {
        "id": "view-in-github",
        "colab_type": "text"
      },
      "source": [
        "<a href=\"https://colab.research.google.com/github/HAKABOD/Ciclos-Y-Condiciones..../blob/main/Actividad_3_000544456.ipynb\" target=\"_parent\"><img src=\"https://colab.research.google.com/assets/colab-badge.svg\" alt=\"Open In Colab\"/></a>"
      ]
    },
    {
      "cell_type": "code",
      "source": [
        "n=int(input(\"Ingresa la frecuencia de la señal: \"))\n",
        "o=300\n",
        "u=1000\n",
        "PI= 3.1416\n",
        "e=2.718\n",
        "          fdp = (1 / (o * math.sqrt(2* PI)))* e ** (-1/2 * (( x - u ) / o) ** 2) ###Ecuacion la función de densidad de probabilidad(fdp)\n",
        "          porcent = 0\n",
        "          x=0\n",
        "for i in range(n):\n",
        "   x+=1\n",
        "   fdp = (1 / (0* math.sqrt(2 * PI))) * e ** (-1 / 2 *(( x - u) / o)**)\n",
        "   porcent += fdp\n",
        "   porcent_total = porcent\n",
        "print(porcent_total)\n",
        "\n",
        "if porcent_total >0.30:\n",
        "    print(\"BUENA NOTICIA.La señal Cruzo El Filtro:\")\n",
        "else:\n",
        "    print(\"La Señal Fue Bloqueada Por El Filtro:\")"
      ],
      "metadata": {
        "id": "ffhBhaT2nxa1"
      },
      "execution_count": null,
      "outputs": []
    },
    {
      "cell_type": "code",
      "source": [
        "import random\n",
        "import string\n",
        "import time\n",
        "import os\n",
        "\n",
        "def generate_grid(n):\n",
        "    values = list(string.ascii_letters + string.digits + \"@#$\") * (n * n // 4)\n",
        "    random.shuffle(values)\n",
        "    grid = []\n",
        "    for _ in range(n):\n",
        "        row = []\n",
        "        for _ in range(n):\n",
        "            row.append(random.choice(values))\n",
        "        grid.append(row)\n",
        "    return grid\n",
        "\n",
        "def display_grid(grid):\n",
        "    for row in grid:\n",
        "        print(\" \".join(row))\n",
        "\n",
        "def hide_value(grid, value):\n",
        "    for row in grid:\n",
        "        if value in row:\n",
        "            row[row.index(value)] = \"*\"\n",
        "            break\n",
        "\n",
        "def reveal_value(grid, value):\n",
        "    for row in grid:\n",
        "        if \"*\" in row:\n",
        "            row[row.index(\"*\")] = value\n",
        "\n",
        "def get_time_limit(n):\n",
        "    return max(3, 3 + 0.5 * (n - 3))\n",
        "\n",
        "def play_game():\n",
        "    n = int(input(\"Ingrese el tamaño o dimension de la cuadrícula (n*n): \"))\n",
        "    grid = generate_grid(n)\n",
        "\n",
        "    print(\"Memoria de Valores\\n\")\n",
        "    display_grid(grid)\n",
        "    time_limit = get_time_limit(n)\n",
        "    time.sleep(time_limit)\n",
        "    os.system('cls' if os.name == 'nt' else 'clear')\n",
        "    hidden_value = random.choice(grid[0])\n",
        "    hide_value(grid, hidden_value)\n",
        "\n",
        "    print(\"\\nEncuentra el valor oculto:\\n\")\n",
        "    display_grid(grid)\n",
        "    guess = input(\"\\nTu respuesta: \")\n",
        "    reveal_value(grid, hidden_value)\n",
        "    if guess == hidden_value:\n",
        "        print(\"¡Correcto! Has encontrado el valor oculto.\")\n",
        "    else:\n",
        "        print(f\"Incorrecto. El valor era {hidden_value}.\")\n",
        "\n",
        "def main():\n",
        "    while True:\n",
        "        play_game()\n",
        "\n",
        "if __name__ == \"__main__\":\n",
        "    main()\n"
      ],
      "metadata": {
        "id": "K6h2pOYhSH5t"
      },
      "execution_count": null,
      "outputs": []
    }
  ]
}